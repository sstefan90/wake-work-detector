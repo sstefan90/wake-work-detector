{
 "cells": [
  {
   "cell_type": "code",
   "execution_count": 1,
   "metadata": {},
   "outputs": [
    {
     "name": "stderr",
     "output_type": "stream",
     "text": [
      "/Users/stephone_christian/Desktop/wakeword/source/lib/python3.8/site-packages/tqdm/auto.py:21: TqdmWarning: IProgress not found. Please update jupyter and ipywidgets. See https://ipywidgets.readthedocs.io/en/stable/user_install.html\n",
      "  from .autonotebook import tqdm as notebook_tqdm\n",
      "torchvision is not available - cannot save figures\n"
     ]
    }
   ],
   "source": [
    "import torch\n",
    "import torch.nn as nn\n",
    "from utils import create_dataloader\n",
    "import numpy as np\n",
    "from cnn import AudioModel\n",
    "from sklearn.metrics import confusion_matrix, ConfusionMatrixDisplay, f1_score\n",
    "from sklearn.metrics import classification_report"
   ]
  },
  {
   "cell_type": "code",
   "execution_count": 2,
   "metadata": {},
   "outputs": [],
   "source": [
    "# K fold cross validation\n",
    "MODEL_PATH = \"logs/audiomodel.batch_size:16.lr:0.0005.lr_schedule:5.weight_decay:0.1.weight:4.0.epochs:30/checkpoint/checkpoint_25.pth\"\n",
    "\n",
    "def run_inference():\n",
    "    model = AudioModel()\n",
    "    checkpoint = torch.load(MODEL_PATH)\n",
    "    model.load_state_dict(checkpoint['model'])\n",
    "    _, test_dataloader = create_dataloader(batch_size=16)\n",
    "\n",
    "    with torch.inference_mode():\n",
    "        y_true, y_pred = [], []\n",
    "        for X_val, y_val in test_dataloader:\n",
    "\n",
    "            X_val = X_val.reshape(X_val.shape[0], 1, X_val.shape[1], X_val.shape[2])\n",
    "            y_val= nn.functional.one_hot(y_val, num_classes=2).view(y_val.shape[0], 2).float()\n",
    "\n",
    "            predictions = model(X_val)\n",
    "            y_true.append(torch.argmax(y_val, dim=1))\n",
    "            y_pred.append(torch.argmax(predictions, dim=1))\n",
    "\n",
    "    y_true_np = np.concatenate([x.numpy() for x in y_true], axis=None)\n",
    "    y_pred_np = np.concatenate([x.numpy() for x in y_pred], axis=None)   \n",
    "\n",
    "    return y_true_np, y_pred_np"
   ]
  },
  {
   "cell_type": "code",
   "execution_count": 3,
   "metadata": {},
   "outputs": [],
   "source": [
    "def confusion_matrix_disp(y_true, y_pred):\n",
    "    conf = confusion_matrix(y_true, y_pred)\n",
    "    fig = ConfusionMatrixDisplay(conf)\n",
    "    fig.plot()"
   ]
  },
  {
   "cell_type": "code",
   "execution_count": 4,
   "metadata": {},
   "outputs": [
    {
     "name": "stderr",
     "output_type": "stream",
     "text": [
      "/Users/stephone_christian/Desktop/wakeword/utils.py:282: UserWarning: The given NumPy array is not writable, and PyTorch does not support non-writable tensors. This means writing to this tensor will result in undefined behavior. You may want to copy the array to protect its data or make it writable before converting it to a tensor. This type of warning will be suppressed for the rest of this program. (Triggered internally at /Users/runner/work/pytorch/pytorch/pytorch/torch/csrc/utils/tensor_numpy.cpp:212.)\n",
      "  X = torch.from_numpy(X)\n"
     ]
    }
   ],
   "source": [
    "y_true, y_pred = run_inference()"
   ]
  },
  {
   "cell_type": "code",
   "execution_count": 5,
   "metadata": {},
   "outputs": [
    {
     "data": {
      "image/png": "[encoded data removed]",
      "text/plain": [
       "<Figure size 640x480 with 2 Axes>"
      ]
     },
     "metadata": {},
     "output_type": "display_data"
    }
   ],
   "source": [
    "confusion_matrix_disp(y_true, y_pred)"
   ]
  },
  {
   "cell_type": "code",
   "execution_count": 6,
   "metadata": {},
   "outputs": [
    {
     "name": "stdout",
     "output_type": "stream",
     "text": [
      "              precision    recall  f1-score   support\n",
      "\n",
      "  background       0.97      0.98      0.97       333\n",
      "    wakeword       0.88      0.87      0.87        67\n",
      "\n",
      "    accuracy                           0.96       400\n",
      "   macro avg       0.93      0.92      0.92       400\n",
      "weighted avg       0.96      0.96      0.96       400\n",
      "\n"
     ]
    }
   ],
   "source": [
    "print(classification_report(y_true, y_pred, target_names=['background', 'wakeword']))"
   ]
  }
 ],
 "metadata": {
  "kernelspec": {
   "display_name": "Python 3.8.5 ('source': venv)",
   "language": "python",
   "name": "python3"
  },
  "language_info": {
   "codemirror_mode": {
    "name": "ipython",
    "version": 3
   },
   "file_extension": ".py",
   "mimetype": "text/x-python",
   "name": "python",
   "nbconvert_exporter": "python",
   "pygments_lexer": "ipython3",
   "version": "3.8.5"
  },
  "orig_nbformat": 4,
  "vscode": {
   "interpreter": {
    "hash": "b4f0f7f1ec8005f918a2f2fa6882920988b182990b8ac7dbd7fdf471526bab4c"
   }
  }
 },
 "nbformat": 4,
 "nbformat_minor": 2
}
